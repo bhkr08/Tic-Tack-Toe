{
 "cells": [
  {
   "cell_type": "code",
   "execution_count": 22,
   "id": "309c2459",
   "metadata": {},
   "outputs": [],
   "source": [
    "#to create the board\n",
    "from IPython.display import clear_output\n",
    "def display_board(board):\n",
    "    clear_output()\n",
    "    print(' '+board[1]+' || '+board[2]+' || '+board[3])\n",
    "    print('===||===||==')\n",
    "    print(' '+board[4]+' || '+board[5]+' || '+board[6])\n",
    "    print('===||===||==')\n",
    "    print(' '+board[7]+' || '+board[8]+' || '+board[9])"
   ]
  },
  {
   "cell_type": "code",
   "execution_count": 23,
   "id": "e044fae5",
   "metadata": {},
   "outputs": [
    {
     "name": "stdout",
     "output_type": "stream",
     "text": [
      " X || O || X\n",
      "===||===||==\n",
      " O || X || O\n",
      "===||===||==\n",
      " X || O || X\n"
     ]
    }
   ],
   "source": [
    "#for testing the board\n",
    "test_board =  [' ','X','O','X','O','X','O','X','O','X']\n",
    "display_board(test_board)\n"
   ]
  },
  {
   "cell_type": "code",
   "execution_count": 24,
   "id": "07e5faf6",
   "metadata": {},
   "outputs": [],
   "source": [
    "#to choose whether player will select 'O'or 'X'\n",
    "def Player_choice():\n",
    "    choice = ''\n",
    "    #loop will run untill player select the any of the correct option either X or O\n",
    "    while not (choice == 'X' or choice =='O'):\n",
    "        choice = input('Player1: Make your choice X or O:  ').upper()\n",
    "        if choice == 'X':\n",
    "            return('X','O')\n",
    "        else:\n",
    "            return('O','X')\n",
    "        "
   ]
  },
  {
   "cell_type": "code",
   "execution_count": 25,
   "id": "78057147",
   "metadata": {},
   "outputs": [],
   "source": [
    "#to input the postion of X or O\n",
    "def Place_maker(board,marker,position):\n",
    "    board[position] = marker\n",
    "    "
   ]
  },
  {
   "cell_type": "code",
   "execution_count": 26,
   "id": "6b3f7cdd",
   "metadata": {},
   "outputs": [],
   "source": [
    "# TO check if anyone win\n",
    "def win_check(board,mark):\n",
    "    return((board[1]== mark and board[2] == mark and board[3] == mark) or # 1st row \n",
    "           (board[4]== mark and board[5] == mark and board[6] == mark) or # Middle row\n",
    "           (board[7]== mark and board[8] == mark and board[9] == mark) or # Last row\n",
    "           (board[1]== mark and board[4] == mark and board[7] == mark) or # 1st column\n",
    "           (board[2]== mark and board[5] == mark and board[8] == mark) or # 2nd column\n",
    "           (board[3]== mark and board[6] == mark and board[9] == mark) or # 3rd column\n",
    "           (board[1]== mark and board[5] == mark and board[9] == mark) or # diagnoal from 1st column\n",
    "           (board[3]== mark and board[5] == mark and board[7] == mark))  # diagnoal from 3rd column  \n",
    "    "
   ]
  },
  {
   "cell_type": "code",
   "execution_count": 27,
   "id": "31def708",
   "metadata": {},
   "outputs": [
    {
     "data": {
      "text/plain": [
       "True"
      ]
     },
     "execution_count": 27,
     "metadata": {},
     "output_type": "execute_result"
    }
   ],
   "source": [
    "win_check(test_board,'X')"
   ]
  },
  {
   "cell_type": "code",
   "execution_count": 28,
   "id": "30ce30fb",
   "metadata": {},
   "outputs": [],
   "source": [
    "#Pick random player either 1 or 2\n",
    "import random\n",
    "\n",
    "def pick_player():\n",
    "    flip = random.randint(0,1)\n",
    "    if flip == 0:\n",
    "        return 'player_1'\n",
    "    else:\n",
    "        return 'player_2'\n"
   ]
  },
  {
   "cell_type": "code",
   "execution_count": 29,
   "id": "b0763b17",
   "metadata": {},
   "outputs": [
    {
     "data": {
      "text/plain": [
       "'player_1'"
      ]
     },
     "execution_count": 29,
     "metadata": {},
     "output_type": "execute_result"
    }
   ],
   "source": [
    "pick_player()"
   ]
  },
  {
   "cell_type": "code",
   "execution_count": 30,
   "id": "d11e5a86",
   "metadata": {},
   "outputs": [],
   "source": [
    "#To check the blank position\n",
    "def space_check(board,position):\n",
    "  return  board[position] == ' '\n",
    "    "
   ]
  },
  {
   "cell_type": "code",
   "execution_count": 31,
   "id": "7ac446a9",
   "metadata": {},
   "outputs": [
    {
     "data": {
      "text/plain": [
       "[' ', 'X', 'O', 'X', 'O', 'X', 'O', 'X', 'O', 'X']"
      ]
     },
     "metadata": {},
     "output_type": "display_data"
    }
   ],
   "source": [
    "display(test_board)"
   ]
  },
  {
   "cell_type": "code",
   "execution_count": 32,
   "id": "639adc6d",
   "metadata": {},
   "outputs": [],
   "source": [
    "def full_board_check(board):\n",
    "    for i in range(1,10):\n",
    "        if space_check(board,i):\n",
    "            return False\n",
    "    return True\n"
   ]
  },
  {
   "cell_type": "code",
   "execution_count": 33,
   "id": "88ac7d81",
   "metadata": {},
   "outputs": [],
   "source": [
    "# to take the input from player at which position they want to keep X or O\n",
    "def player_choice_position(board):\n",
    "    position = 0    \n",
    "    while position not in [1,2,3,4,5,6,7,8,9] or  not space_check(board,position):\n",
    "        position = int(input('Choose your next position: (1-9) '))\n",
    "        \n",
    "    return position"
   ]
  },
  {
   "cell_type": "code",
   "execution_count": 34,
   "id": "3a4fc82e",
   "metadata": {},
   "outputs": [],
   "source": [
    "# ask player want to play again\n",
    "def replay():\n",
    "    return input('Do you want to play again? Enter Yes or No: ').lower().startswith('y')"
   ]
  },
  {
   "cell_type": "code",
   "execution_count": 39,
   "id": "cfdecedb",
   "metadata": {},
   "outputs": [
    {
     "name": "stdout",
     "output_type": "stream",
     "text": [
      " X || O || X\n",
      "===||===||==\n",
      " O || X || O\n",
      "===||===||==\n",
      " X ||   ||  \n",
      "Player1 won the game!\n",
      "Do you want to play again? Enter Yes or No: 2\n"
     ]
    }
   ],
   "source": [
    "while True:\n",
    "    the_board = [' ']*10\n",
    "    player1,player2 = Player_choice()\n",
    "    turn = pick_player()\n",
    "    print(turn + 'will go first')\n",
    "    play_game = input('Ready to play?? y or n')\n",
    "    \n",
    "    if play_game == 'y':\n",
    "        game_on = True\n",
    "    else:\n",
    "        game_on = False\n",
    "        \n",
    "    while game_on:\n",
    "        \n",
    "        if turn == 'player_1':\n",
    "            \n",
    "            display_board(the_board)\n",
    "            position = player_choice_position(the_board)\n",
    "            Place_maker(the_board,player1,position)\n",
    "            \n",
    "            if win_check(the_board,player1):\n",
    "                display_board(the_board)\n",
    "                print('Player1 won the game!')\n",
    "                game_on = False\n",
    "            else:\n",
    "                if full_board_check(the_board):\n",
    "                    display_board(the_board)\n",
    "                    print('Match drawn')\n",
    "                    game_on = False\n",
    "                else:\n",
    "                    turn ='player_2'\n",
    "                \n",
    "            \n",
    "        else:\n",
    "            \n",
    "            display_board(the_board)\n",
    "            position = player_choice_position(the_board)\n",
    "            Place_maker(the_board,player2,position)\n",
    "            \n",
    "            if win_check(the_board,player1):\n",
    "                display_board(the_board)\n",
    "                print('Player2 won the game!')\n",
    "                game_on = False\n",
    "            else:\n",
    "                if full_board_check(the_board):\n",
    "                    display_board(the_board)\n",
    "                    print('Match drawn')\n",
    "                    game_on = False\n",
    "                else:\n",
    "                    display_board(the_board)\n",
    "                    turn ='player_1'\n",
    "                \n",
    "            \n",
    "    \n",
    "    if not replay():\n",
    "        break"
   ]
  },
  {
   "cell_type": "markdown",
   "id": "48db5132",
   "metadata": {},
   "source": [
    "### "
   ]
  },
  {
   "cell_type": "code",
   "execution_count": null,
   "id": "9b7f6f39",
   "metadata": {},
   "outputs": [],
   "source": []
  }
 ],
 "metadata": {
  "kernelspec": {
   "display_name": "Python 3",
   "language": "python",
   "name": "python3"
  },
  "language_info": {
   "codemirror_mode": {
    "name": "ipython",
    "version": 3
   },
   "file_extension": ".py",
   "mimetype": "text/x-python",
   "name": "python",
   "nbconvert_exporter": "python",
   "pygments_lexer": "ipython3",
   "version": "3.8.8"
  }
 },
 "nbformat": 4,
 "nbformat_minor": 5
}
